{
 "cells": [
  {
   "cell_type": "markdown",
   "metadata": {},
   "source": [
    "Professor: Apostolos Filippas\n",
    "\n",
    "Class: Web Analytics\n",
    "\n",
    "Topic: Assignment 1\n",
    "\n",
    "**You are not allowed to share the contents of this notebook with anyone outside this class without written permission by the professor.**\n",
    "\n",
    "# <center><font color='red'>Instructions </font></center>\n",
    "\n",
    "In this homework you are asked to do a basic data analysis using a real-life dataset downloaded from www.politifact.com .\n",
    "\n",
    "You will be asked to do things step by step. Please follow the guidelines and write your code in the code cells provided. \n",
    "- Feel free to comment your code as well as you think your code should be commented.\n",
    "\n",
    "- The analysis that is required is similar to the Python #3 notebook. Look to this notebook for hints! "
   ]
  },
  {
   "cell_type": "markdown",
   "metadata": {},
   "source": [
    "## Q1 - Understanding your data source\n",
    "\n",
    "Visit the www.politifact.com website and browse around. What is the main function of the website? \n"
   ]
  },
  {
   "cell_type": "markdown",
   "metadata": {},
   "source": [
    "##### For me Politifact acts as a fact checker. It serves to rate a politician's statement on accuracy. The purpose of Politifact is to present the general populace with their ratings so that we are able to judge for ourselves how best to vote in order to govern ourselves."
   ]
  },
  {
   "cell_type": "markdown",
   "metadata": {},
   "source": [
    "## Q2 - Data format and attributes\n",
    "\n",
    "Your data file has been pulled from the politifact website. It can be downloaded from the following link https://bit.ly/politifactData.\n",
    "\n",
    "Every line represents a different political statement that politifact has put under its microscope. The tab-separated features are the following:\n",
    "1. Politifact Rating\n",
    "2. Statement\n",
    "3. Who made the statement\n",
    "4. when the statement was made\n",
    "5. where the statement was made\n",
    "6. '|'-separated subjects of the statement\n",
    "\n",
    "Put the data into a list named **statements**. \n",
    "- Every element of the list should be a list with the 6 features mentioned above. \n",
    "- The 6th element of the list of features should be a list containing the subjects that the corresponding statement is about. \n",
    "- Print the entry with index 37"
   ]
  },
  {
   "cell_type": "code",
   "execution_count": 1,
   "metadata": {},
   "outputs": [
    {
     "data": {
      "text/plain": [
       "'C:\\\\Users\\\\himit\\\\Desktop\\\\Fall 2020\\\\Web Analytics\\\\Assignments'"
      ]
     },
     "execution_count": 1,
     "metadata": {},
     "output_type": "execute_result"
    }
   ],
   "source": [
    "pwd"
   ]
  },
  {
   "cell_type": "code",
   "execution_count": 5,
   "metadata": {},
   "outputs": [],
   "source": [
    "with open('politifact_data.txt', mode='r', encoding='utf-8') as f:\n",
    "    statements = f.read()\n"
   ]
  },
  {
   "cell_type": "code",
   "execution_count": 6,
   "metadata": {
    "scrolled": true
   },
   "outputs": [],
   "source": [
    "\n",
    "statements = statements.split('\\n')"
   ]
  },
  {
   "cell_type": "code",
   "execution_count": 7,
   "metadata": {},
   "outputs": [],
   "source": [
    "#The entries are tab separeted and index 6 is also '|' separated \n",
    "\n",
    "for i in range(0,len(statements)):\n",
    "    statements[i]=statements[i].split('\\t')\n",
    "    statements[i][-1] = statements[i][-1].split('|')"
   ]
  },
  {
   "cell_type": "code",
   "execution_count": 9,
   "metadata": {},
   "outputs": [
    {
     "data": {
      "text/plain": [
       "['True',\n",
       " ' After shedding jobs for more than 10 years, our manufacturers have added about 500,000 jobs over the past three. ',\n",
       " 'barack-obama',\n",
       " 'Tuesday, February 12th, 2013',\n",
       " 'in the State of the Union Address',\n",
       " ['economy', 'jobs']]"
      ]
     },
     "execution_count": 9,
     "metadata": {},
     "output_type": "execute_result"
    }
   ],
   "source": [
    "statements[37] #print the entry for index 37"
   ]
  },
  {
   "cell_type": "markdown",
   "metadata": {},
   "source": [
    "## Q3 - The set of ratings\n",
    "\n",
    "Use your data to find all possible ratings that politifact might assign to a statement. In other words, all possible values that the first attribute can take. Store them into a set with name **ratings** and print the set."
   ]
  },
  {
   "cell_type": "code",
   "execution_count": 10,
   "metadata": {},
   "outputs": [
    {
     "data": {
      "text/plain": [
       "{'False',\n",
       " 'Full Flop',\n",
       " 'Half Flip',\n",
       " 'Half-True',\n",
       " 'Mostly False',\n",
       " 'Mostly True',\n",
       " 'No Flip',\n",
       " 'Pants on Fire!',\n",
       " 'True'}"
      ]
     },
     "execution_count": 10,
     "metadata": {},
     "output_type": "execute_result"
    }
   ],
   "source": [
    "#created a set with all the possible ratings \n",
    "ratings = set()\n",
    "for i in range(0,len(statements)):\n",
    "    ratings.add(statements[i][0])\n",
    "  \n",
    "\n",
    "ratings"
   ]
  },
  {
   "cell_type": "markdown",
   "metadata": {},
   "source": [
    "## Q4 - The distribution of ratings\n",
    "\n",
    "You are now asked to find how many times each of the possible ratings appears. \n",
    "\n",
    "I suggest you do that using a disctionary (with keys being the rating string, and values being the number of times it appears) but feel free to follow your own strategy. \n",
    "\n",
    "Print the distribution of ratings."
   ]
  },
  {
   "cell_type": "code",
   "execution_count": 11,
   "metadata": {},
   "outputs": [],
   "source": [
    "#created a dictionary with the ratings and their frequency\n",
    "num_ratings = dict()\n",
    "\n",
    "for i in range(0,len(statements)):\n",
    "    if statements [i][0] in num_ratings:\n",
    "        num_ratings[statements[i][0]] += 1\n",
    "    else:\n",
    "        num_ratings[statements[i][0]] = 1\n"
   ]
  },
  {
   "cell_type": "code",
   "execution_count": 12,
   "metadata": {},
   "outputs": [
    {
     "data": {
      "text/plain": [
       "{'Mostly False': 689,\n",
       " 'Mostly True': 787,\n",
       " 'Half-True': 891,\n",
       " 'False': 820,\n",
       " 'Pants on Fire!': 402,\n",
       " 'True': 643,\n",
       " 'Half Flip': 14,\n",
       " 'No Flip': 7,\n",
       " 'Full Flop': 44}"
      ]
     },
     "execution_count": 12,
     "metadata": {},
     "output_type": "execute_result"
    }
   ],
   "source": [
    "num_ratings"
   ]
  },
  {
   "cell_type": "markdown",
   "metadata": {},
   "source": [
    "## Q5 - Changing labels to binary\n",
    "\n",
    "Not all of the ratings seem to tell us confidently that the statement is a lie; for example some of them refer to whether the quoter has flopped on a previous statement they made, or that the statement is half true. \n",
    "\n",
    "Toward that end make a new list with name **new_statements** that contains only those entries for which the rating is 'False', 'Mostly False', 'Pants on Fire!', 'Mostly True', and 'True'. \n",
    "\n",
    "After you do this, turn the old ratings into 0 or 1 's as follows:\n",
    "- 'False', 'Mostly False', 'Pants on Fire!' should be mapped to 0\n",
    "- 'Mostly True', 'True' should be mapped to 1"
   ]
  },
  {
   "cell_type": "markdown",
   "metadata": {},
   "source": []
  },
  {
   "cell_type": "code",
   "execution_count": 13,
   "metadata": {},
   "outputs": [],
   "source": [
    "#Part 1\n",
    "#created  a new list with the required entries\n",
    "\n",
    "new_statements = []\n",
    "\n",
    "\n",
    "for s in statements:\n",
    "  if s[0] == 'True' or s[0] == 'Mostly True':\n",
    "    new_statements.append(s)\n",
    "  elif s[0] == 'False' or s[0] == 'Mostly False' or s[0] == 'Pants on Fire!':\n",
    "    new_statements.append(s)\n",
    "    \n",
    "        "
   ]
  },
  {
   "cell_type": "code",
   "execution_count": 15,
   "metadata": {},
   "outputs": [
    {
     "data": {
      "text/plain": [
       "['Pants on Fire!',\n",
       " ' There s no plan from Senate Democrats or the White House to replace the sequester. ',\n",
       " 'john-boehner',\n",
       " 'Sunday, March 3rd, 2013',\n",
       " 'in an interview on Meet the Press.',\n",
       " ['federal-budget']]"
      ]
     },
     "execution_count": 15,
     "metadata": {},
     "output_type": "execute_result"
    }
   ],
   "source": [
    "new_statements [5]"
   ]
  },
  {
   "cell_type": "code",
   "execution_count": 16,
   "metadata": {},
   "outputs": [],
   "source": [
    "binary_statements = []\n",
    "\n",
    "\n",
    "for s in new_statements:\n",
    "  if s[0] == 'True' or s[0] == 'Mostly True':\n",
    "    binary_statements.append([1] + s[1:])\n",
    "  elif s[0] == 'False' or s[0] == 'Mostly False' or s[0] == 'Pants on Fire!':\n",
    "    binary_statements.append([0] + s[1:])"
   ]
  },
  {
   "cell_type": "code",
   "execution_count": 17,
   "metadata": {},
   "outputs": [
    {
     "data": {
      "text/plain": [
       "[0,\n",
       " ' There s no plan from Senate Democrats or the White House to replace the sequester. ',\n",
       " 'john-boehner',\n",
       " 'Sunday, March 3rd, 2013',\n",
       " 'in an interview on Meet the Press.',\n",
       " ['federal-budget']]"
      ]
     },
     "execution_count": 17,
     "metadata": {},
     "output_type": "execute_result"
    }
   ],
   "source": [
    "binary_statements[5] #printed one out to see if the mapping worked"
   ]
  },
  {
   "cell_type": "markdown",
   "metadata": {},
   "source": [
    "## Q6 - Does Trump lie? (in this data set)\n",
    "\n",
    "How many lies (0's) and how many truths (1's) that Donald Trump said are in our data set? Donald Trump's identifier is 'donald-trump'. Print the numbers"
   ]
  },
  {
   "cell_type": "code",
   "execution_count": 20,
   "metadata": {},
   "outputs": [
    {
     "name": "stdout",
     "output_type": "stream",
     "text": [
      "The number of lies Trump has said 44\n",
      "The number of truths Trump has said 5\n"
     ]
    }
   ],
   "source": [
    "trump_lies = 0\n",
    "trump_truth = 0\n",
    "for b in binary_statements:\n",
    "    if b[2] == 'donald-trump':\n",
    "        if b[0] == 1:\n",
    "            trump_truth = trump_truth + 1\n",
    "        else:\n",
    "            trump_lies = trump_lies + 1\n",
    "\n",
    "print(\"The number of lies Trump has said\",trump_lies)\n",
    "print(\"The number of truths Trump has said\",trump_truth)"
   ]
  },
  {
   "cell_type": "markdown",
   "metadata": {},
   "source": [
    "## Q7 - How about Hillary and Obama? (in this data set)\n",
    "\n",
    "Perform the same exercise for Hillary, and for Obama. Their respective identifiers are 'hillary-clinton' and 'barack-obama'"
   ]
  },
  {
   "cell_type": "code",
   "execution_count": 21,
   "metadata": {},
   "outputs": [
    {
     "name": "stdout",
     "output_type": "stream",
     "text": [
      "The number of lies Hillary said 36\n",
      "The number of truths Hillary said 62\n"
     ]
    }
   ],
   "source": [
    "#Number of lies and truth by Hillary\n",
    "\n",
    "H_lies = 0\n",
    "H_truth = 0\n",
    "for b in binary_statements:\n",
    "    if b[2] == 'hillary-clinton':\n",
    "        if b[0] == 1:\n",
    "            H_truth = H_truth + 1\n",
    "        else:\n",
    "            H_lies = H_lies + 1\n",
    "\n",
    "print('The number of lies Hillary said',H_lies)\n",
    "print('The number of truths Hillary said',H_truth)"
   ]
  },
  {
   "cell_type": "code",
   "execution_count": 22,
   "metadata": {},
   "outputs": [
    {
     "name": "stdout",
     "output_type": "stream",
     "text": [
      "The number of lies Obama said 136\n",
      "The number of truths Obama said 248\n"
     ]
    }
   ],
   "source": [
    "O_lies = 0\n",
    "O_truth = 0\n",
    "for b in binary_statements:\n",
    "    if b[2] == 'barack-obama':\n",
    "        if b[0] == 1:\n",
    "            O_truth = O_truth + 1\n",
    "        else:\n",
    "            O_lies = O_lies + 1\n",
    "\n",
    "print('The number of lies Obama said',O_lies)\n",
    "print('The number of truths Obama said',O_truth)"
   ]
  },
  {
   "cell_type": "markdown",
   "metadata": {},
   "source": [
    "## Q8 - Obama's favorite subjects\n",
    "\n",
    "What are the top 10 subjects obama talks about? Use the new_statements list for this question. If one statement is on more than one subject, then it counts as a +1 for every subject it is about. Print the top 10, along with the number of mentions."
   ]
  },
  {
   "cell_type": "markdown",
   "metadata": {},
   "source": [
    "going through each 'statement' in new_statements:\n",
    "    if 'statement' was said by barack obama:\n",
    "        #subjects=[a,b,c]\n",
    "        go through each subject in list of subjects:\n",
    "            if this subject is already in my dictionary:\n",
    "                increase subject frequency by 1\n",
    "            else:\n",
    "                add this subject to my dictionary with count 1"
   ]
  },
  {
   "cell_type": "code",
   "execution_count": 23,
   "metadata": {},
   "outputs": [
    {
     "name": "stdout",
     "output_type": "stream",
     "text": [
      "{'federal-budget': 39, 'polls': 5, 'taxes': 44, 'crime': 6, 'criminal-justice': 5, 'legal-issues': 11, 'environment': 9, 'poverty': 2, 'workers': 9, 'energy': 39, 'terrorism': 9, 'civil-rights': 3, 'guns': 7, 'economy': 60, 'jobs': 25, 'financial-regulation': 1, 'message-machine-2012': 24, 'debates': 14, 'military': 13, 'iraq': 12, 'abortion': 6, 'corrections-and-updates': 8, 'drugs': 1, 'health-care': 63, 'sexuality': 3, 'women': 9, 'immigration': 11, 'medicaid': 2, 'china': 3, 'deficit': 11, 'small-business': 3, 'medicare': 10, 'trade': 6, 'history': 16, 'debt': 1, 'foreign-policy': 21, 'education': 12, 'candidates-biography': 14, 'gays-and-lesbians': 1, 'supreme-court': 4, 'climate-change': 2, 'gas-prices': 3, 'corporations': 9, 'job-accomplishments': 9, 'agriculture': 1, 'government-regulation': 1, 'israel': 1, 'new-hampshire-2012': 1, 'politifacts-top-promises': 1, 'bipartisanship': 1, 'stimulus': 9, 'veterans': 3, 'transportation': 6, 'housing': 3, 'obama-birth-certificate': 1, 'social-security': 6, 'technology': 1, 'government-efficiency': 2, 'water': 1, 'children': 5, 'disability': 1, 'labor': 1, 'market-regulation': 2, 'states': 2, 'ethics': 10, 'oil-spill': 2, 'campaign-finance': 1, 'homeland-security': 1, 'transparency': 1, 'elections': 10, 'afghanistan': 2, 'baseball': 1, 'congressional-rules': 3, 'religion': 1, 'nuclear': 2, 'public-health': 3, 'bush-administration': 2, 'families': 2, 'bankruptcy': 2, 'patriotism': 1, 'ebola': 1, 'congress': 1, 'diversity': 1, 'income': 3}\n"
     ]
    }
   ],
   "source": [
    "#created a dictionary with the subjects that Obama talked about\n",
    "\n",
    "obama_sub = dict()\n",
    "\n",
    "for i in new_statements:\n",
    "    if i[2] == 'barack-obama':\n",
    "        topics = i[-1]\n",
    "        for t in topics:\n",
    "            if t in obama_sub.keys():\n",
    "                obama_sub[t] = obama_sub[t] + 1\n",
    "            else:\n",
    "                obama_sub[t] = 1\n",
    "                \n"
   ]
  },
  {
   "cell_type": "code",
   "execution_count": 24,
   "metadata": {},
   "outputs": [],
   "source": [
    "#sorted out the subjects \n",
    "sorted_sub = []\n",
    "for k in obama_sub:\n",
    "    sorted_sub.append([obama_sub[k],k])\n"
   ]
  },
  {
   "cell_type": "code",
   "execution_count": 25,
   "metadata": {},
   "outputs": [
    {
     "data": {
      "text/plain": [
       "[[63, 'health-care'],\n",
       " [60, 'economy'],\n",
       " [44, 'taxes'],\n",
       " [39, 'energy'],\n",
       " [39, 'federal-budget'],\n",
       " [25, 'jobs'],\n",
       " [24, 'message-machine-2012'],\n",
       " [21, 'foreign-policy'],\n",
       " [16, 'history'],\n",
       " [14, 'candidates-biography']]"
      ]
     },
     "execution_count": 25,
     "metadata": {},
     "output_type": "execute_result"
    }
   ],
   "source": [
    "#created a list of the top 10 subjects he talked about\n",
    "sorted_sub.sort(key = lambda x: x[0])\n",
    "sorted_sub.reverse()\n",
    "sorted_sub[:10]"
   ]
  }
 ],
 "metadata": {
  "kernelspec": {
   "display_name": "Python 3",
   "language": "python",
   "name": "python3"
  },
  "language_info": {
   "codemirror_mode": {
    "name": "ipython",
    "version": 3
   },
   "file_extension": ".py",
   "mimetype": "text/x-python",
   "name": "python",
   "nbconvert_exporter": "python",
   "pygments_lexer": "ipython3",
   "version": "3.8.3"
  }
 },
 "nbformat": 4,
 "nbformat_minor": 1
}
